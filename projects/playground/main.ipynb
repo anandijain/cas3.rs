{
 "cells": [
  {
   "cell_type": "markdown",
   "id": "4cd56fd8-db0b-4218-ac27-ef0e26f93ac9",
   "metadata": {},
   "source": [
    "# Introduce"
   ]
  },
  {
   "cell_type": "markdown",
   "id": "8eaadd94-e9eb-40a2-a377-b2051dda88d4",
   "metadata": {
    "tags": []
   },
   "source": [
    "## Online Playground\n",
    "\n",
    "### Binder\n",
    "\n",
    "[![Binder](https://mybinder.org/badge_logo.svg)](https://mybinder.org/v2/gh/nyar-vm/valkyrie-jupyter/dev?labpath=playground%2FMain.ipynb)"
   ]
  },
  {
   "cell_type": "markdown",
   "id": "9460ba1c-37b6-46ba-9f43-1205ac8c1e9e",
   "metadata": {},
   "source": [
    "## Install\n",
    "\n",
    "\n",
    "For rust user\n",
    "\n",
    "```sh\n",
    "cargo install valkyrie-jupyter\n",
    "valkyrie-jupyter install\n",
    "```\n",
    "\n",
    "For manally download:\n",
    "\n",
    "\n",
    "```\n",
    "\n",
    "```\n",
    "\n"
   ]
  },
  {
   "cell_type": "markdown",
   "id": "e5114ecc-6439-4fe5-90b2-e456709bbaa5",
   "metadata": {
    "jp-MarkdownHeadingCollapsed": true,
    "tags": []
   },
   "source": [
    "## Basic Tutorial\n",
    "\n",
    "### [Literals](./basic/literals.ipynb)\n",
    "\n",
    "bool, integer, decimal, string literal, json, html, ...\n",
    "\n",
    "### [Collections](./basic/literals.ipynb#Collections)\n",
    "\n",
    "Table, List, Dict, Maps, Sets, Bits, Bytes, ...\n",
    "\n",
    "\n",
    "### [Let Binding](./basic/let-binding.ipynb)\n",
    "\n",
    "How to define variables and output\n",
    "\n",
    "### [Extression](./basic/expressions.ipynb)\n",
    "\n",
    "How to call functions and subroutines\n",
    "\n",
    "\n",
    "### [Define Function](./basic/function.ipynb)\n",
    "\n",
    "How to define a function\n",
    "\n",
    "\n",
    "### 【TODO】[Structure & Class](./basic/class.ipynb)\n",
    "\n",
    "How to define a class\n",
    "\n",
    "### 【TODO】[Interface & Trait](./basic/trait.ipynb)\n",
    "\n",
    "How to define a trait\n",
    "\n",
    "### 【TODO】[Union & Variant](./basic/trait.ipynb)\n",
    "\n",
    "How to define a union\n",
    "\n",
    "### 【TODO】[Flags](./basic/trait.ipynb)\n",
    "\n",
    "How to define a flag\n",
    "\n",
    "\n",
    "### 【TODO】[Modules](./basic/modules.ipynb)\n",
    "\n",
    "\n",
    "### 【TODO】[Packages](./basic/packages.ipynb)\n",
    "\n",
    "\n",
    "\n",
    "\n",
    "### [Control Flow](./basic/control-flow.ipynb)\n",
    "\n",
    "\n",
    "\n",
    "\n",
    "\n",
    "\n"
   ]
  },
  {
   "cell_type": "markdown",
   "id": "6c2d226b-e773-4937-8ade-1710aa395630",
   "metadata": {},
   "source": [
    "## Advanced Tutorial"
   ]
  },
  {
   "cell_type": "markdown",
   "id": "80e7f8d6-ccfc-43b8-ab57-7c6e13c872c7",
   "metadata": {},
   "source": [
    "### 【TODO】[Work with Iterator](./advance/iterator.ipynb)\n",
    "\n",
    "\n",
    "\n",
    "### 【TODO】[Work with Generator](./advance/generator.ipynb)\n",
    "\n",
    "\n",
    "### 【TODO】[Work with Coroutine](./advance/coroutine.ipynb)\n",
    "\n",
    "\n",
    "### 【TODO】[Work with Observer](./advance/observer.ipynb)\n"
   ]
  },
  {
   "cell_type": "code",
   "execution_count": null,
   "id": "76b9e9b5-fa38-4026-bfcc-1970e3a48afe",
   "metadata": {},
   "outputs": [],
   "source": []
  },
  {
   "cell_type": "code",
   "execution_count": null,
   "id": "dcbca8fa-ba08-44ca-b3a1-66bad374efbb",
   "metadata": {},
   "outputs": [],
   "source": []
  },
  {
   "cell_type": "code",
   "execution_count": null,
   "id": "e50bd50c-8879-4873-a62b-8003d223cd8a",
   "metadata": {},
   "outputs": [],
   "source": []
  },
  {
   "cell_type": "code",
   "execution_count": 1,
   "id": "c2476439-4e6b-43bc-87c5-c0a2aa7017c1",
   "metadata": {},
   "outputs": [],
   "source": []
  },
  {
   "cell_type": "code",
   "execution_count": null,
   "id": "5e8fccb1-6a36-48de-852d-649dc3cd7311",
   "metadata": {},
   "outputs": [],
   "source": []
  }
 ],
 "metadata": {
  "kernelspec": {
   "display_name": "Valkyrie",
   "language": "valkyrie",
   "name": "valkyrie"
  },
  "language_info": {
   "codemirror_mode": "rust",
   "file_extension": "*.rs",
   "mimetype": "scala",
   "name": "Valkyrie",
   "nbconvert_exporter": "rust",
   "pygment_lexer": "scala",
   "version": "0.0.0"
  }
 },
 "nbformat": 4,
 "nbformat_minor": 5
}
